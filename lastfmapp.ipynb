{
 "cells": [
  {
   "cell_type": "code",
   "execution_count": 231,
   "metadata": {},
   "outputs": [],
   "source": [
    "import requests\n",
    "import json\n",
    "import pandas as pd\n",
    "import numpy as np\n",
    "from graphviz import Digraph\n",
    "\n",
    "pd.set_option('display.max_colwidth', -1)\n",
    "pd.set_option('display.max_columns', None)  "
   ]
  },
  {
   "cell_type": "code",
   "execution_count": 232,
   "metadata": {},
   "outputs": [],
   "source": [
    "bros=['pierce345', 'dmcginn615', 'smcginn410', 'summerjets']\n",
    "methodlist=['topartists', 'recenttracks']\n",
    "methods={'topartists':'user.getTopArtists', 'recenttracks': 'user.getrecenttracks'}\n",
    "keywords={'topartists':'artist', 'recenttracks': 'track'}\n",
    "url='http://ws.audioscrobbler.com/2.0/?api_key=19b52576c07c45c1fe0e813645cb30e1&format=json'"
   ]
  },
  {
   "cell_type": "code",
   "execution_count": 266,
   "metadata": {},
   "outputs": [],
   "source": [
    "# response=requests.get('http://ws.audioscrobbler.com/2.0/?method=user.gettopartists&user=iamdarrencheung&api_key=19b52576c07c45c1fe0e813645cb30e1&format=json')"
   ]
  },
  {
   "cell_type": "code",
   "execution_count": 267,
   "metadata": {},
   "outputs": [],
   "source": [
    "# response.content"
   ]
  },
  {
   "cell_type": "code",
   "execution_count": 268,
   "metadata": {},
   "outputs": [],
   "source": [
    "# json.loads(response.content)['topartists']"
   ]
  },
  {
   "cell_type": "code",
   "execution_count": 252,
   "metadata": {},
   "outputs": [],
   "source": [
    "# json.loads(requests.get(url+'&method=artist.getsimilar'+'&artist=elvis'+'&limit=1000').content)"
   ]
  },
  {
   "cell_type": "code",
   "execution_count": 197,
   "metadata": {},
   "outputs": [],
   "source": [
    "def grab(bro, method):\n",
    "    '''returns the json retrieved from lastfm for user BRO and method METHOD and gives 1000 entries'''\n",
    "    return json.loads(requests.get(url+'&user='+bro+'&method='+methods[method]+'&limit=1000').content)\n",
    "    \n",
    "def extract(bro, method, data, key):\n",
    "    '''returns a list of information extracted from a passed json, DATA, corresponing to key KEY'''\n",
    "    dummy=[]\n",
    "    for i in range(len(data[bro][method][keywords[method]])):\n",
    "        dummy.append(data[bro][method][keywords[method]][i][key])\n",
    "    return dummy\n",
    "    \n",
    "def assemble(bro, method, info):\n",
    "    '''info can be name or playcount'''\n",
    "    data={}\n",
    "    data[bro]=grab(bro, method)\n",
    "    return extract(bro, method, data, info)       \n",
    "\n",
    "def similars(artist):\n",
    "    '''creates a dataframe of artists related to the passed artist and their match factor'''\n",
    "    data=json.loads(requests.get(url+'&method=artist.getsimilar'+'&artist='+artist+'&limit=1000').content)\n",
    "    data1=[]\n",
    "    data2=[]\n",
    "    for i in range(len(data['similarartists']['artist'])):\n",
    "        data1.append(data['similarartists']['artist'][i]['name'])\n",
    "        data2.append(data['similarartists']['artist'][i]['match'])\n",
    "        sims=pd.DataFrame({'Artist': data1, 'Match': data2})\n",
    "        sims['Match']=sims['Match'].apply(lambda x: float(x))\n",
    "    return sims\n",
    "\n",
    "def collect_artists():\n",
    "    '''creates a dictionary of dataframes containing the topartists and their playcounts for each bro'''\n",
    "    data1={}\n",
    "    data2={}\n",
    "    my_artists={}\n",
    "    for bro in bros:\n",
    "        data1[bro]=assemble(bro, 'topartists', 'name')\n",
    "        data2[bro]=assemble(bro, 'topartists', 'playcount')\n",
    "        my_artists[bro]=pd.DataFrame({'Artist': data1[bro], 'Playcount': data2[bro]})\n",
    "        my_artists[bro]['Playcount']=my_artists[bro]['Playcount'].apply(lambda x: int(x)) #parse playcount to int\n",
    "    return my_artists\n",
    "\n",
    "def rec(bro, my_artists):\n",
    "    my_similars={}\n",
    "    my_similars_shared={}\n",
    "    my_similars[bro]=pd.DataFrame({'Artist': [], 'Match': []})\n",
    "\n",
    "    for artist in my_artists[bro][my_artists[bro]['Playcount']>50]['Artist']:\n",
    "        try:\n",
    "            my_similars[bro]=my_similars[bro].append(similars(artist)) #create list of all artists similar to user's artists\n",
    "        except:\n",
    "            pass\n",
    "        \n",
    "    my_similars[bro]=my_similars[bro][my_similars[bro]['Match']>0.5]\n",
    "    my_similars[bro]=my_similars[bro].sort_values(by=['Match'], ascending=False)\n",
    "    my_similars[bro]=my_similars[bro].drop_duplicates(subset='Artist', keep='first')\n",
    "    my_similars[bro]=my_similars[bro].merge(my_artists[bro]['Artist'], on=\"Artist\", how='left', indicator=True)\n",
    "    my_similars[bro]=my_similars[bro][my_similars[bro]['_merge']=='left_only'][['Artist', 'Match']]\n",
    "\n",
    "    return my_similars[bro]\n",
    "\n",
    "def bro_rec(bro, bro2, my_artists):\n",
    "    my_similars={}\n",
    "    my_similars_shared={}\n",
    "    my_similars[bro]=pd.DataFrame({'Artist': [], 'Match': []})\n",
    "\n",
    "    for artist in my_artists[bro][my_artists[bro]['Playcount']>20]['Artist']:\n",
    "        try:\n",
    "            my_similars[bro]=my_similars[bro].append(similars(artist)) #create list of all artists similar to user's artists\n",
    "        except:\n",
    "            pass\n",
    "        \n",
    "    my_similars[bro]=my_similars[bro][my_similars[bro]['Match']>0.25]\n",
    "    my_similars[bro]=my_similars[bro].sort_values(by=['Match'], ascending=False)\n",
    "    my_similars[bro]=my_similars[bro].drop_duplicates(subset='Artist', keep='first')\n",
    "    my_similars[bro]=my_similars[bro].merge(my_artists[bro]['Artist'], on=\"Artist\", how='left', indicator=True)\n",
    "    my_similars[bro]=my_similars[bro][my_similars[bro]['_merge']=='left_only'][['Artist', 'Match']]\n",
    "\n",
    "    return my_similars[bro].merge(my_artists[bro2][my_artists[bro2]['Playcount']>10], on=\"Artist\", how='inner')"
   ]
  },
  {
   "cell_type": "code",
   "execution_count": 223,
   "metadata": {},
   "outputs": [],
   "source": [
    "def create_graph(subject, my_artists, total, minmatch):\n",
    "    if total==0:   #if total is given as zero, do for all artists\n",
    "        total=len(my_artists[subject]['Artist'])-1\n",
    "    \n",
    "    edges=[]\n",
    "    \n",
    "    for artist in my_artists[subject]['Artist'][:total]:   #for each of my artists  \n",
    "        try:\n",
    "            sim=similars(artist)    #get a list of similar artists\n",
    "            \n",
    "            for artist2 in my_artists[subject]['Artist'][:total]: #only artists lower in list-prevents double entries\n",
    "                if artist2 in sim['Artist'].tolist():             #if any of them are similar to the first\n",
    "                    index=my_artists[subject].index[my_artists[subject]['Artist'] == artist][0] #index in original list\n",
    "                    index2=my_artists[subject].index[my_artists[subject]['Artist'] == artist2][0]\n",
    "                    match=float(sim.loc[sim['Artist'] == artist2, 'Match'])                  \n",
    "                    if match>minmatch:\n",
    "                        edges.append((artist, index, artist2, index2, match))  \n",
    "        except:\n",
    "            pass\n",
    "    return edges\n",
    "\n",
    "def plot_graph(subject):\n",
    "    dot = Digraph(comment='Music Cluster')\n",
    "    i=0\n",
    "\n",
    "    for artist in my_artists[subject]['Artist'][:total]:\n",
    "        dot.node(str(i), artist)\n",
    "        i+=1\n",
    "\n",
    "    for edge in edges:\n",
    "        dot.edge(str(edge[1]), str(edge[3]))\n",
    "\n",
    "    dot.render('test-output/round-table.gv', view=True)"
   ]
  },
  {
   "cell_type": "code",
   "execution_count": 199,
   "metadata": {},
   "outputs": [],
   "source": [
    "my_artists=collect_artists()"
   ]
  },
  {
   "cell_type": "code",
   "execution_count": 47,
   "metadata": {},
   "outputs": [],
   "source": [
    "# my_artists['pierce345']\n",
    "# similar_artists['pierce345']"
   ]
  },
  {
   "cell_type": "code",
   "execution_count": 48,
   "metadata": {},
   "outputs": [],
   "source": [
    "# my_artists['all']=my_artists['pierce345'].append(my_artists['dmcginn615']).append(my_artists['smcginn410']).sort_values(by=['Playcount'], ascending=False)\n",
    "#my_artists['all']"
   ]
  },
  {
   "cell_type": "code",
   "execution_count": 49,
   "metadata": {},
   "outputs": [],
   "source": [
    "# my_artists['pierce345']['Artist']"
   ]
  },
  {
   "cell_type": "code",
   "execution_count": 50,
   "metadata": {},
   "outputs": [],
   "source": [
    "# rec('pierce345', my_artists)"
   ]
  },
  {
   "cell_type": "code",
   "execution_count": 201,
   "metadata": {},
   "outputs": [],
   "source": [
    "# len(my_artists['pierce345']['Artist'])"
   ]
  },
  {
   "cell_type": "code",
   "execution_count": 230,
   "metadata": {},
   "outputs": [
    {
     "name": "stdout",
     "output_type": "stream",
     "text": [
      "296\n"
     ]
    }
   ],
   "source": [
    "edges=create_graph('pierce345', my_artists, 100, 0.25)\n",
    "print(len(edges))\n",
    "plot_graph('pierce345')"
   ]
  },
  {
   "cell_type": "code",
   "execution_count": 228,
   "metadata": {},
   "outputs": [],
   "source": []
  },
  {
   "cell_type": "code",
   "execution_count": null,
   "metadata": {},
   "outputs": [],
   "source": []
  },
  {
   "cell_type": "code",
   "execution_count": null,
   "metadata": {},
   "outputs": [],
   "source": []
  }
 ],
 "metadata": {
  "kernelspec": {
   "display_name": "Python 3",
   "language": "python",
   "name": "python3"
  },
  "language_info": {
   "codemirror_mode": {
    "name": "ipython",
    "version": 3
   },
   "file_extension": ".py",
   "mimetype": "text/x-python",
   "name": "python",
   "nbconvert_exporter": "python",
   "pygments_lexer": "ipython3",
   "version": "3.7.3"
  }
 },
 "nbformat": 4,
 "nbformat_minor": 2
}
